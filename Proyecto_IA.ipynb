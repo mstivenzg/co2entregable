{
  "cells": [
    {
      "cell_type": "markdown",
      "metadata": {
        "id": "view-in-github",
        "colab_type": "text"
      },
      "source": [
        "<a href=\"https://colab.research.google.com/github/mstivenzg/co2entregable/blob/master/Proyecto_IA.ipynb\" target=\"_parent\"><img src=\"https://colab.research.google.com/assets/colab-badge.svg\" alt=\"Open In Colab\"/></a>"
      ]
    },
    {
      "cell_type": "code",
      "execution_count": null,
      "metadata": {
        "id": "e3NuBxmmnGt3"
      },
      "outputs": [],
      "source": [
        "# Importa las bibliotecas necesarias\n",
        "import gdown\n",
        "import zipfile\n",
        "import numpy as np # linear algebra\n",
        "import pandas as pd # data processing, CSV file I/O (e.g. pd.read_csv)\n",
        "from sklearn.metrics import mean_squared_error, mean_absolute_error"
      ]
    },
    {
      "cell_type": "code",
      "execution_count": null,
      "metadata": {
        "colab": {
          "base_uri": "https://localhost:8080/"
        },
        "id": "K_La3WKAmNG9",
        "outputId": "480b573c-089f-4215-9c70-62370ae3b14d"
      },
      "outputs": [
        {
          "output_type": "stream",
          "name": "stderr",
          "text": [
            "Downloading...\n",
            "From: https://drive.google.com/uc?id=1A5g_Y9g3YqW-PSDQjXtOqn2_UZYQ0MBq\n",
            "To: /content/archivo.zip\n",
            "100%|██████████| 51.3M/51.3M [00:00<00:00, 231MB/s]\n"
          ]
        },
        {
          "output_type": "stream",
          "name": "stdout",
          "text": [
            "       ID_LAT_LON_YEAR_WEEK  latitude  longitude  year  week_no  \\\n",
            "0  ID_-0.510_29.290_2019_00     -0.51      29.29  2019        0   \n",
            "1  ID_-0.510_29.290_2019_01     -0.51      29.29  2019        1   \n",
            "2  ID_-0.510_29.290_2019_02     -0.51      29.29  2019        2   \n",
            "3  ID_-0.510_29.290_2019_03     -0.51      29.29  2019        3   \n",
            "4  ID_-0.510_29.290_2019_04     -0.51      29.29  2019        4   \n",
            "\n",
            "   SulphurDioxide_SO2_column_number_density  \\\n",
            "0                                 -0.000108   \n",
            "1                                  0.000021   \n",
            "2                                  0.000514   \n",
            "3                                       NaN   \n",
            "4                                 -0.000079   \n",
            "\n",
            "   SulphurDioxide_SO2_column_number_density_amf  \\\n",
            "0                                      0.603019   \n",
            "1                                      0.728214   \n",
            "2                                      0.748199   \n",
            "3                                           NaN   \n",
            "4                                      0.676296   \n",
            "\n",
            "   SulphurDioxide_SO2_slant_column_number_density  \\\n",
            "0                                       -0.000065   \n",
            "1                                        0.000014   \n",
            "2                                        0.000385   \n",
            "3                                             NaN   \n",
            "4                                       -0.000048   \n",
            "\n",
            "   SulphurDioxide_cloud_fraction  SulphurDioxide_sensor_azimuth_angle  \\\n",
            "0                       0.255668                           -98.593887   \n",
            "1                       0.130988                            16.592861   \n",
            "2                       0.110018                            72.795837   \n",
            "3                            NaN                                  NaN   \n",
            "4                       0.121164                             4.121269   \n",
            "\n",
            "   SulphurDioxide_sensor_zenith_angle  SulphurDioxide_solar_azimuth_angle  \\\n",
            "0                           50.843559                         -130.050797   \n",
            "1                           39.137194                         -140.874435   \n",
            "2                           52.868816                         -150.191757   \n",
            "3                                 NaN                                 NaN   \n",
            "4                           35.515587                         -137.409159   \n",
            "\n",
            "   SulphurDioxide_solar_zenith_angle  \\\n",
            "0                          35.874496   \n",
            "1                          28.965133   \n",
            "2                          23.206415   \n",
            "3                                NaN   \n",
            "4                          24.331972   \n",
            "\n",
            "   SulphurDioxide_SO2_column_number_density_15km  \\\n",
            "0                                      -0.000027   \n",
            "1                                       0.000012   \n",
            "2                                       0.000154   \n",
            "3                                            NaN   \n",
            "4                                      -0.000028   \n",
            "\n",
            "   CarbonMonoxide_CO_column_number_density  \\\n",
            "0                                 0.035370   \n",
            "1                                 0.036526   \n",
            "2                                 0.035338   \n",
            "3                                 0.036790   \n",
            "4                                 0.034675   \n",
            "\n",
            "   CarbonMonoxide_H2O_column_number_density  CarbonMonoxide_cloud_height  \\\n",
            "0                               1589.024536                  4061.098145   \n",
            "1                               1772.574405                  1869.040414   \n",
            "2                               2703.236800                  2809.138386   \n",
            "3                               2076.073332                  3917.707873   \n",
            "4                               2053.608490                  2667.310013   \n",
            "\n",
            "   CarbonMonoxide_sensor_altitude  CarbonMonoxide_sensor_azimuth_angle  \\\n",
            "0                   829530.500000                            71.111977   \n",
            "1                   829787.287130                            -1.019594   \n",
            "2                   829883.828686                           -54.801144   \n",
            "3                   829657.163571                            28.916541   \n",
            "4                   829735.093750                           -12.501663   \n",
            "\n",
            "   CarbonMonoxide_sensor_zenith_angle  CarbonMonoxide_solar_azimuth_angle  \\\n",
            "0                           52.775928                         -149.875565   \n",
            "1                           38.982368                         -140.158048   \n",
            "2                           52.344378                         -133.683714   \n",
            "3                           39.676184                         -142.575915   \n",
            "4                           33.703073                         -134.854258   \n",
            "\n",
            "   CarbonMonoxide_solar_zenith_angle  \\\n",
            "0                          25.965214   \n",
            "1                          29.562000   \n",
            "2                          31.586838   \n",
            "3                          24.810699   \n",
            "4                          24.629593   \n",
            "\n",
            "   NitrogenDioxide_NO2_column_number_density  \\\n",
            "0                                        NaN   \n",
            "1                                   0.000047   \n",
            "2                                   0.000031   \n",
            "3                                        NaN   \n",
            "4                                   0.000051   \n",
            "\n",
            "   NitrogenDioxide_tropospheric_NO2_column_number_density  \\\n",
            "0                                                NaN        \n",
            "1                                       1.639765e-05        \n",
            "2                                       4.267369e-07        \n",
            "3                                                NaN        \n",
            "4                                       2.056437e-05        \n",
            "\n",
            "   NitrogenDioxide_stratospheric_NO2_column_number_density  \\\n",
            "0                                                NaN         \n",
            "1                                            0.00003         \n",
            "2                                            0.00003         \n",
            "3                                                NaN         \n",
            "4                                            0.00003         \n",
            "\n",
            "   NitrogenDioxide_NO2_slant_column_number_density  \\\n",
            "0                                              NaN   \n",
            "1                                         0.000093   \n",
            "2                                         0.000080   \n",
            "3                                              NaN   \n",
            "4                                         0.000093   \n",
            "\n",
            "   NitrogenDioxide_tropopause_pressure  \\\n",
            "0                                  NaN   \n",
            "1                          7311.869141   \n",
            "2                          7311.869141   \n",
            "3                                  NaN   \n",
            "4                          7637.262458   \n",
            "\n",
            "   NitrogenDioxide_absorbing_aerosol_index  NitrogenDioxide_cloud_fraction  \\\n",
            "0                                      NaN                             NaN   \n",
            "1                                -1.935386                        0.067038   \n",
            "2                                -2.754374                        0.072135   \n",
            "3                                      NaN                             NaN   \n",
            "4                                -1.450563                        0.049393   \n",
            "\n",
            "   NitrogenDioxide_sensor_altitude  NitrogenDioxide_sensor_azimuth_angle  \\\n",
            "0                              NaN                                   NaN   \n",
            "1                    829859.960368                              5.471037   \n",
            "2                    829527.125000                             72.795837   \n",
            "3                              NaN                                   NaN   \n",
            "4                    829744.843750                            -13.431798   \n",
            "\n",
            "   NitrogenDioxide_sensor_zenith_angle  NitrogenDioxide_solar_azimuth_angle  \\\n",
            "0                                  NaN                                  NaN   \n",
            "1                            35.265195                          -138.343908   \n",
            "2                            52.868816                          -150.191757   \n",
            "3                                  NaN                                  NaN   \n",
            "4                            35.078624                          -136.257947   \n",
            "\n",
            "   NitrogenDioxide_solar_zenith_angle  \\\n",
            "0                                 NaN   \n",
            "1                           30.054262   \n",
            "2                           23.206415   \n",
            "3                                 NaN   \n",
            "4                           24.729026   \n",
            "\n",
            "   Formaldehyde_tropospheric_HCHO_column_number_density  \\\n",
            "0                                           0.000117      \n",
            "1                                           0.000170      \n",
            "2                                           0.000080      \n",
            "3                                                NaN      \n",
            "4                                           0.000269      \n",
            "\n",
            "   Formaldehyde_tropospheric_HCHO_column_number_density_amf  \\\n",
            "0                                           0.863230          \n",
            "1                                           1.172826          \n",
            "2                                           1.175467          \n",
            "3                                                NaN          \n",
            "4                                           0.869081          \n",
            "\n",
            "   Formaldehyde_HCHO_slant_column_number_density  Formaldehyde_cloud_fraction  \\\n",
            "0                                       0.000038                     0.255668   \n",
            "1                                       0.000143                     0.200754   \n",
            "2                                       0.000019                     0.279449   \n",
            "3                                            NaN                          NaN   \n",
            "4                                       0.000146                     0.160090   \n",
            "\n",
            "   Formaldehyde_solar_zenith_angle  Formaldehyde_solar_azimuth_angle  \\\n",
            "0                        35.874496                       -130.050797   \n",
            "1                        29.071781                       -141.814827   \n",
            "2                        30.994290                       -135.667160   \n",
            "3                              NaN                               NaN   \n",
            "4                        25.977935                       -134.826557   \n",
            "\n",
            "   Formaldehyde_sensor_zenith_angle  Formaldehyde_sensor_azimuth_angle  \\\n",
            "0                         50.843559                         -98.593887   \n",
            "1                         43.050213                           4.678839   \n",
            "2                         52.810561                         -41.363579   \n",
            "3                               NaN                                NaN   \n",
            "4                         39.949069                         -12.837398   \n",
            "\n",
            "   UvAerosolIndex_absorbing_aerosol_index  UvAerosolIndex_sensor_altitude  \\\n",
            "0                               -1.280761                   829864.546875   \n",
            "1                               -1.548119                   829747.856973   \n",
            "2                               -1.038673                   829892.960629   \n",
            "3                               -0.626435                   829794.848214   \n",
            "4                               -1.584896                   829736.142857   \n",
            "\n",
            "   UvAerosolIndex_sensor_azimuth_angle  UvAerosolIndex_sensor_zenith_angle  \\\n",
            "0                           -12.628979                           35.632416   \n",
            "1                            16.152492                           43.485327   \n",
            "2                           -41.557633                           41.269033   \n",
            "3                            -0.001270                           34.458740   \n",
            "4                            -0.604325                           41.794705   \n",
            "\n",
            "   UvAerosolIndex_solar_azimuth_angle  UvAerosolIndex_solar_zenith_angle  \\\n",
            "0                         -138.786446                          30.752128   \n",
            "1                         -142.786141                          28.573627   \n",
            "2                         -135.364627                          30.273304   \n",
            "3                         -137.489602                          26.936477   \n",
            "4                         -136.448518                          25.045785   \n",
            "\n",
            "   Ozone_O3_column_number_density  Ozone_O3_column_number_density_amf  \\\n",
            "0                        0.115927                            2.506609   \n",
            "1                        0.116775                            2.657704   \n",
            "2                        0.117039                            2.619104   \n",
            "3                        0.116434                            2.525818   \n",
            "4                        0.117373                            2.572243   \n",
            "\n",
            "   Ozone_O3_slant_column_number_density  Ozone_O3_effective_temperature  \\\n",
            "0                              0.295663                      225.731144   \n",
            "1                              0.315733                      226.172170   \n",
            "2                              0.310828                      227.469292   \n",
            "3                              0.297966                      225.589440   \n",
            "4                              0.306688                      228.955840   \n",
            "\n",
            "   Ozone_cloud_fraction  Ozone_sensor_azimuth_angle  \\\n",
            "0              0.595473                  -12.628979   \n",
            "1              0.175166                   24.464335   \n",
            "2              0.606091                  -41.557633   \n",
            "3              0.787398                   -0.001270   \n",
            "4              0.215739                   -0.604325   \n",
            "\n",
            "   Ozone_sensor_zenith_angle  Ozone_solar_azimuth_angle  \\\n",
            "0                  35.632416                -138.786446   \n",
            "1                  42.596541                -143.097868   \n",
            "2                  41.269033                -135.364627   \n",
            "3                  34.458740                -137.489602   \n",
            "4                  41.794705                -136.448518   \n",
            "\n",
            "   Ozone_solar_zenith_angle  UvAerosolLayerHeight_aerosol_height  \\\n",
            "0                 30.752128                                  NaN   \n",
            "1                 28.213655                                  NaN   \n",
            "2                 30.273304                                  NaN   \n",
            "3                 26.936477                                  NaN   \n",
            "4                 25.045785                                  NaN   \n",
            "\n",
            "   UvAerosolLayerHeight_aerosol_pressure  \\\n",
            "0                                    NaN   \n",
            "1                                    NaN   \n",
            "2                                    NaN   \n",
            "3                                    NaN   \n",
            "4                                    NaN   \n",
            "\n",
            "   UvAerosolLayerHeight_aerosol_optical_depth  \\\n",
            "0                                         NaN   \n",
            "1                                         NaN   \n",
            "2                                         NaN   \n",
            "3                                         NaN   \n",
            "4                                         NaN   \n",
            "\n",
            "   UvAerosolLayerHeight_sensor_zenith_angle  \\\n",
            "0                                       NaN   \n",
            "1                                       NaN   \n",
            "2                                       NaN   \n",
            "3                                       NaN   \n",
            "4                                       NaN   \n",
            "\n",
            "   UvAerosolLayerHeight_sensor_azimuth_angle  \\\n",
            "0                                        NaN   \n",
            "1                                        NaN   \n",
            "2                                        NaN   \n",
            "3                                        NaN   \n",
            "4                                        NaN   \n",
            "\n",
            "   UvAerosolLayerHeight_solar_azimuth_angle  \\\n",
            "0                                       NaN   \n",
            "1                                       NaN   \n",
            "2                                       NaN   \n",
            "3                                       NaN   \n",
            "4                                       NaN   \n",
            "\n",
            "   UvAerosolLayerHeight_solar_zenith_angle  Cloud_cloud_fraction  \\\n",
            "0                                      NaN              0.595473   \n",
            "1                                      NaN              0.213608   \n",
            "2                                      NaN              0.703540   \n",
            "3                                      NaN              0.782806   \n",
            "4                                      NaN              0.189336   \n",
            "\n",
            "   Cloud_cloud_top_pressure  Cloud_cloud_top_height  \\\n",
            "0              53534.732422             3664.436218   \n",
            "1              63790.296241             3651.190311   \n",
            "2              55923.790554             4216.986492   \n",
            "3              44569.130636             5228.507736   \n",
            "4              59904.314844             3980.598120   \n",
            "\n",
            "   Cloud_cloud_base_pressure  Cloud_cloud_base_height  \\\n",
            "0               61085.809570              2615.120483   \n",
            "1               66969.478735              3174.572424   \n",
            "2               60068.894448              3516.282669   \n",
            "3               51064.547339              4180.973322   \n",
            "4               63751.125781              3355.710107   \n",
            "\n",
            "   Cloud_cloud_optical_depth  Cloud_surface_albedo  \\\n",
            "0                  15.568533              0.272292   \n",
            "1                   8.690601              0.256830   \n",
            "2                  21.103410              0.251101   \n",
            "3                  15.386899              0.262043   \n",
            "4                   8.114694              0.235847   \n",
            "\n",
            "   Cloud_sensor_azimuth_angle  Cloud_sensor_zenith_angle  \\\n",
            "0                  -12.628986                  35.632416   \n",
            "1                   30.359375                  39.557633   \n",
            "2                   15.377883                  30.401823   \n",
            "3                  -11.293399                  24.380357   \n",
            "4                   38.532263                  37.392979   \n",
            "\n",
            "   Cloud_solar_azimuth_angle  Cloud_solar_zenith_angle  emission  \n",
            "0                -138.786423                 30.752140  3.750994  \n",
            "1                -145.183930                 27.251779  4.025176  \n",
            "2                -142.519545                 26.193296  4.231381  \n",
            "3                -132.665828                 28.829155  4.305286  \n",
            "4                -141.509805                 22.204612  4.347317  \n"
          ]
        }
      ],
      "source": [
        "# URL del archivo compartido en Google Drive\n",
        "url = 'https://drive.google.com/uc?id=1A5g_Y9g3YqW-PSDQjXtOqn2_UZYQ0MBq'\n",
        "\n",
        "# Descarga el archivo .zip\n",
        "gdown.download(url, 'archivo.zip', quiet=False)\n",
        "\n",
        "# Descomprime el archivo .zip\n",
        "with zipfile.ZipFile('archivo.zip', 'r') as zip_ref:\n",
        "    zip_ref.extractall('.')\n",
        "\n",
        "# Carga los datos del archivo train.csv en una variable llamada data\n",
        "data = pd.read_csv('train.csv')\n",
        "\n",
        "# Muestra las primeras filas de los datos\n",
        "print(data.head())\n"
      ]
    },
    {
      "cell_type": "code",
      "execution_count": null,
      "metadata": {
        "id": "bp3WGMgsibvS"
      },
      "outputs": [],
      "source": [
        "data=pd.set_option('display.max_columns', None)#para ver todas las columnas\n",
        "data = pd.read_csv('train.csv').fillna(0)#para reemplazar los NaN por ceros"
      ]
    },
    {
      "cell_type": "markdown",
      "source": [
        "PRIMER MODELO PREDICTIVO (Regressión con Bosques Aleatorios)"
      ],
      "metadata": {
        "id": "mNufeuW9hw-y"
      }
    },
    {
      "cell_type": "code",
      "source": [
        "from sklearn.model_selection import train_test_split\n",
        "from sklearn.ensemble import RandomForestRegressor"
      ],
      "metadata": {
        "id": "_cvmyNwKcJG3"
      },
      "execution_count": null,
      "outputs": []
    },
    {
      "cell_type": "code",
      "source": [
        "#Definimos la variable objetivo y las varibales independientes\n",
        "\n",
        "X = data.drop(['ID_LAT_LON_YEAR_WEEK','year','week_no','emission'], axis=1)\n",
        "y_true = data['emission']"
      ],
      "metadata": {
        "id": "wxZk6ixRcVma"
      },
      "execution_count": null,
      "outputs": []
    },
    {
      "cell_type": "code",
      "source": [
        "#Dividimos entre train set y de test set\n",
        "X_train, X_test, y_train, y_test = train_test_split(X, y_true, test_size=0.2, random_state=42)"
      ],
      "metadata": {
        "id": "8jn-6ie9cwIa"
      },
      "execution_count": null,
      "outputs": []
    },
    {
      "cell_type": "code",
      "source": [
        "# Entrenando el Random Forest Regressor\n",
        "rf_model = RandomForestRegressor(n_estimators=100, random_state=42)\n",
        "rf_model.fit(X_train, y_train)"
      ],
      "metadata": {
        "id": "WuIfmdcTc0fz"
      },
      "execution_count": null,
      "outputs": []
    },
    {
      "cell_type": "code",
      "source": [
        "# Haciendo prediccion en el test set\n",
        "y_pred = rf_model.predict(X_test)"
      ],
      "metadata": {
        "id": "xAbNTHuIhIE_"
      },
      "execution_count": null,
      "outputs": []
    },
    {
      "cell_type": "code",
      "source": [
        "#Verificamos con el Root Mean Squared Error\n",
        "mse = mean_squared_error(y_test, y_pred)\n",
        "rmse = np.sqrt(mse)\n",
        "print(\"Root Mean Squared Error\")\n",
        "print(rmse)"
      ],
      "metadata": {
        "id": "0uKxtnKWhJcc",
        "colab": {
          "base_uri": "https://localhost:8080/"
        },
        "outputId": "c66f0d99-90eb-4f9d-8e1c-fd6795f39daf"
      },
      "execution_count": null,
      "outputs": [
        {
          "output_type": "stream",
          "name": "stdout",
          "text": [
            "Root Mean Squared Error\n",
            "27.919856619277812\n"
          ]
        }
      ]
    },
    {
      "cell_type": "markdown",
      "metadata": {
        "id": "UTAAFW-AqP3O"
      },
      "source": [
        "SEGUNDO MODELO PREDICTIVO (XGBoost)"
      ]
    },
    {
      "cell_type": "code",
      "execution_count": null,
      "metadata": {
        "id": "RIuGtsqLqVf9",
        "colab": {
          "base_uri": "https://localhost:8080/",
          "height": 551
        },
        "outputId": "afed7276-4001-4e3c-9f8d-c659b96e3412"
      },
      "outputs": [
        {
          "output_type": "stream",
          "name": "stdout",
          "text": [
            "XGBoost - Root Mean Squared Error: 33.033947562557024\n",
            "XGBoost - Evaluation with Real Data:\n",
            "       True Values  Predictions\n",
            "19931   116.547440   127.487503\n",
            "46962    11.595166     5.350323\n",
            "26915   261.624330   210.415268\n",
            "69422    32.747440    28.034554\n",
            "25605    19.810934    41.031334\n"
          ]
        },
        {
          "output_type": "display_data",
          "data": {
            "text/plain": [
              "<Figure size 1000x600 with 1 Axes>"
            ],
            "image/png": "[encoded data removed]"
          },
          "metadata": {}
        }
      ],
      "source": [
        "# Importa las bibliotecas necesarias\n",
        "import numpy as np\n",
        "import pandas as pd\n",
        "from sklearn.metrics import mean_squared_error\n",
        "from sklearn.model_selection import train_test_split\n",
        "from sklearn.preprocessing import StandardScaler\n",
        "from xgboost import XGBRegressor\n",
        "from matplotlib import pyplot as plt\n",
        "\n",
        "\n",
        "# Divide los datos en características (X) y objetivo (y)\n",
        "X = data.drop(['ID_LAT_LON_YEAR_WEEK', 'year', 'week_no', 'emission'], axis=1)\n",
        "y = data['emission']\n",
        "\n",
        "# Divide los datos en conjuntos de entrenamiento y prueba\n",
        "X_train, X_test, y_train, y_test = train_test_split(X, y, test_size=0.2, random_state=42)\n",
        "\n",
        "# Normaliza los datos\n",
        "scaler = StandardScaler()\n",
        "X_train = scaler.fit_transform(X_train)\n",
        "X_test = scaler.transform(X_test)\n",
        "\n",
        "# Modelo XGBoost\n",
        "xgb_model = XGBRegressor()\n",
        "xgb_model.fit(X_train, y_train)\n",
        "y_pred_xgb = xgb_model.predict(X_test)\n",
        "rmse_xgb = np.sqrt(mean_squared_error(y_test, y_pred_xgb))\n",
        "print('XGBoost - Root Mean Squared Error:', rmse_xgb)\n",
        "\n",
        "\n",
        "# Evaluación con datos reales\n",
        "evaluation_xgb = pd.DataFrame({'True Values': y_test, 'Predictions': y_pred_xgb})\n",
        "print('XGBoost - Evaluation with Real Data:')\n",
        "print(evaluation_xgb.head())\n",
        "\n",
        "# Visualización de diferencias\n",
        "plt.figure(figsize=(10, 6))\n",
        "plt.scatter(y_test, y_pred_xgb - y_test)\n",
        "plt.xlabel('True Values')\n",
        "plt.ylabel('Residuals (Predictions - True Values)')\n",
        "plt.title('XGBoost - Residuals Plot')\n",
        "plt.show()"
      ]
    },
    {
      "cell_type": "markdown",
      "source": [
        "TERCERO MODELO PREDICTIVO (ElasticNet)"
      ],
      "metadata": {
        "id": "BVfVxarJu7y2"
      }
    },
    {
      "cell_type": "code",
      "source": [
        "from sklearn.metrics import mean_squared_error\n",
        "from sklearn.model_selection import train_test_split\n",
        "from sklearn.preprocessing import StandardScaler\n",
        "from sklearn.linear_model import ElasticNet\n",
        "\n",
        "# Divide los datos en características (X) y objetivo (y)\n",
        "X = data.drop(['ID_LAT_LON_YEAR_WEEK', 'year', 'week_no', 'emission'], axis=1)\n",
        "y = data['emission']\n",
        "\n",
        "# Divide los datos en conjuntos de entrenamiento y prueba\n",
        "X_train, X_test, y_train, y_test = train_test_split(X, y, test_size=0.2, random_state=42)\n",
        "\n",
        "# Normaliza los datos\n",
        "scaler = StandardScaler()\n",
        "X_train = scaler.fit_transform(X_train)\n",
        "X_test = scaler.transform(X_test)\n",
        "\n",
        "# Modelo ElasticNet\n",
        "elasticnet_model = ElasticNet()\n",
        "elasticnet_model.fit(X_train, y_train)\n",
        "y_pred_elasticnet = elasticnet_model.predict(X_test)\n",
        "rmse_elasticnet = np.sqrt(mean_squared_error(y_test, y_pred_elasticnet))\n",
        "print('ElasticNet - Root Mean Squared Error:', rmse_elasticnet)\n",
        "print('ElasticNet')\n",
        "\n",
        "\n",
        "# Evaluación con datos reales\n",
        "evaluation_elasticnet = pd.DataFrame({'True Values': y_test, 'Predictions': y_pred_elasticnet})\n",
        "print('ElasticNet - Evaluation with Real Data:')\n",
        "print(evaluation_elasticnet.head())\n",
        "\n",
        "# Visualización de diferencias\n",
        "plt.figure(figsize=(10, 6))\n",
        "plt.scatter(y_test, y_pred_elasticnet - y_test)\n",
        "plt.xlabel('True Values')\n",
        "plt.ylabel('Residuals (Predictions - True Values)')\n",
        "plt.title('ElasticNet - Residuals Plot')\n",
        "plt.show()"
      ],
      "metadata": {
        "colab": {
          "base_uri": "https://localhost:8080/",
          "height": 720
        },
        "id": "M4b6ModmtYTr",
        "outputId": "496287f7-93c4-42b1-95b1-e40636e3f8b7"
      },
      "execution_count": null,
      "outputs": [
        {
          "output_type": "stream",
          "name": "stdout",
          "text": [
            "ElasticNet - Root Mean Squared Error: 126.79215304204597\n",
            "ElasticNet\n",
            "ElasticNet - Evaluation with Real Data:\n",
            "       True Values  Predictions\n",
            "19931   116.547440    90.279118\n",
            "46962    11.595166    68.328037\n",
            "26915   261.624330    94.571688\n",
            "69422    32.747440    93.136984\n",
            "25605    19.810934    91.413663\n"
          ]
        },
        {
          "output_type": "display_data",
          "data": {
            "text/plain": [
              "<Figure size 1000x600 with 1 Axes>"
            ],
            "image/png": "[encoded data removed]"
          },
          "metadata": {}
        }
      ]
    },
    {
      "cell_type": "markdown",
      "metadata": {
        "id": "YzmA83gIqV9f"
      },
      "source": [
        "CUARTO MODELO PREDICTIVO: Long Short-Term Memory (LSTM)"
      ]
    },
    {
      "cell_type": "code",
      "execution_count": null,
      "metadata": {
        "id": "gQ29KpQRrEmC"
      },
      "outputs": [],
      "source": [
        "#Librerias\n",
        "from tensorflow.keras.models import Sequential\n",
        "from tensorflow.keras.layers import LSTM, Dense, Dropout\n",
        "from sklearn.preprocessing import MinMaxScaler"
      ]
    },
    {
      "cell_type": "code",
      "execution_count": null,
      "metadata": {
        "id": "-QsYxuqgqZYT"
      },
      "outputs": [],
      "source": [
        "#Definimos la variable objetivo y las varibales independientes\n",
        "\n",
        "X = data.drop(['ID_LAT_LON_YEAR_WEEK','year','week_no','emission'], axis=1)\n",
        "y_true = data['emission']\n"
      ]
    },
    {
      "cell_type": "code",
      "execution_count": null,
      "metadata": {
        "id": "VfdY7yeNrAV3"
      },
      "outputs": [],
      "source": [
        "# Normalizamos los datos para mejorar la convergencia del modelo\n",
        "scaler_x = MinMaxScaler()\n",
        "scaler_y = MinMaxScaler()\n",
        "\n",
        "X = scaler_x.fit_transform(X)\n",
        "y_true = scaler_y.fit_transform(y_true.reshape(-1, 1))\n"
      ]
    },
    {
      "cell_type": "code",
      "source": [
        "#Dividimos los datos en train set y en test set\n",
        "train_x, test_x, train_y, test_y = train_test_split(X, y_true, test_size=0.2, random_state=42)"
      ],
      "metadata": {
        "id": "rhSdLOamUtJ2"
      },
      "execution_count": null,
      "outputs": []
    },
    {
      "cell_type": "code",
      "source": [
        "# Reorganización de datos para LSTM\n",
        "def create_dataset(X, y, time_steps=1):\n",
        "    Xs = []\n",
        "    ys = []\n",
        "    for i in range(len(X) - time_steps):\n",
        "        v = X[i:(i + time_steps)]\n",
        "        Xs.append(v)\n",
        "        ys.append(y[i + time_steps])\n",
        "    return np.array(Xs), np.array(ys)\n",
        "\n",
        "time_steps = 10\n",
        "train_x, train_y = create_dataset(train_x, train_y, time_steps)\n",
        "test_x, test_y = create_dataset(test_x, test_y, time_steps)"
      ],
      "metadata": {
        "id": "l6jIi5-LVFE6"
      },
      "execution_count": null,
      "outputs": []
    },
    {
      "cell_type": "code",
      "source": [
        "#Definicion del modelo\n",
        "model = Sequential()\n",
        "model.add(LSTM(units=50, return_sequences=True, input_shape=(train_x.shape[1], train_x.shape[2])))\n",
        "model.add(Dropout(0.2))\n",
        "model.add(LSTM(units=50, return_sequences=True))\n",
        "model.add(Dropout(0.2))\n",
        "model.add(LSTM(units=50))\n",
        "model.add(Dropout(0.2))\n",
        "model.add(Dense(units=1))\n",
        "\n",
        "model.compile(optimizer='adam', loss='mean_squared_error')"
      ],
      "metadata": {
        "id": "FEZ2egMDVIMd"
      },
      "execution_count": null,
      "outputs": []
    },
    {
      "cell_type": "code",
      "source": [
        "# Entrenar el modelo\n",
        "model.fit(train_x, train_y, epochs=50, batch_size=32, validation_split=0.1)"
      ],
      "metadata": {
        "id": "8Q7UoavSVxL6",
        "colab": {
          "base_uri": "https://localhost:8080/"
        },
        "outputId": "9949ea98-973d-4519-e5ae-2e2cd84138f5"
      },
      "execution_count": null,
      "outputs": [
        {
          "output_type": "stream",
          "name": "stdout",
          "text": [
            "Epoch 1/50\n",
            "1778/1778 [==============================] - 21s 9ms/step - loss: 0.0023 - val_loss: 0.0019\n",
            "Epoch 2/50\n",
            "1778/1778 [==============================] - 15s 9ms/step - loss: 0.0022 - val_loss: 0.0019\n",
            "Epoch 3/50\n",
            "1778/1778 [==============================] - 15s 8ms/step - loss: 0.0022 - val_loss: 0.0019\n",
            "Epoch 4/50\n",
            "1778/1778 [==============================] - 16s 9ms/step - loss: 0.0022 - val_loss: 0.0019\n",
            "Epoch 5/50\n",
            "1778/1778 [==============================] - 15s 8ms/step - loss: 0.0022 - val_loss: 0.0019\n",
            "Epoch 6/50\n",
            "1778/1778 [==============================] - 15s 8ms/step - loss: 0.0022 - val_loss: 0.0019\n",
            "Epoch 7/50\n",
            "1778/1778 [==============================] - 15s 8ms/step - loss: 0.0022 - val_loss: 0.0019\n",
            "Epoch 8/50\n",
            "1778/1778 [==============================] - 14s 8ms/step - loss: 0.0022 - val_loss: 0.0019\n",
            "Epoch 9/50\n",
            "1778/1778 [==============================] - 15s 8ms/step - loss: 0.0022 - val_loss: 0.0019\n",
            "Epoch 10/50\n",
            "1778/1778 [==============================] - 14s 8ms/step - loss: 0.0022 - val_loss: 0.0019\n",
            "Epoch 11/50\n",
            "1778/1778 [==============================] - 14s 8ms/step - loss: 0.0022 - val_loss: 0.0019\n",
            "Epoch 12/50\n",
            "1778/1778 [==============================] - 18s 10ms/step - loss: 0.0022 - val_loss: 0.0019\n",
            "Epoch 13/50\n",
            "1778/1778 [==============================] - 16s 9ms/step - loss: 0.0022 - val_loss: 0.0019\n",
            "Epoch 14/50\n",
            "1778/1778 [==============================] - 15s 8ms/step - loss: 0.0022 - val_loss: 0.0019\n",
            "Epoch 15/50\n",
            "1778/1778 [==============================] - 26s 14ms/step - loss: 0.0022 - val_loss: 0.0019\n",
            "Epoch 16/50\n",
            "1778/1778 [==============================] - 15s 8ms/step - loss: 0.0022 - val_loss: 0.0019\n",
            "Epoch 17/50\n",
            "1778/1778 [==============================] - 15s 8ms/step - loss: 0.0022 - val_loss: 0.0019\n",
            "Epoch 18/50\n",
            "1778/1778 [==============================] - 15s 8ms/step - loss: 0.0022 - val_loss: 0.0019\n",
            "Epoch 19/50\n",
            "1778/1778 [==============================] - 15s 8ms/step - loss: 0.0022 - val_loss: 0.0019\n",
            "Epoch 20/50\n",
            "1778/1778 [==============================] - 15s 8ms/step - loss: 0.0022 - val_loss: 0.0019\n",
            "Epoch 21/50\n",
            "1778/1778 [==============================] - 15s 8ms/step - loss: 0.0022 - val_loss: 0.0019\n",
            "Epoch 22/50\n",
            "1778/1778 [==============================] - 15s 8ms/step - loss: 0.0022 - val_loss: 0.0019\n",
            "Epoch 23/50\n",
            "1778/1778 [==============================] - 15s 8ms/step - loss: 0.0022 - val_loss: 0.0019\n",
            "Epoch 24/50\n",
            "1778/1778 [==============================] - 15s 8ms/step - loss: 0.0022 - val_loss: 0.0019\n",
            "Epoch 25/50\n",
            "1778/1778 [==============================] - 16s 9ms/step - loss: 0.0022 - val_loss: 0.0019\n",
            "Epoch 26/50\n",
            "1778/1778 [==============================] - 15s 8ms/step - loss: 0.0022 - val_loss: 0.0019\n",
            "Epoch 27/50\n",
            "1778/1778 [==============================] - 15s 8ms/step - loss: 0.0022 - val_loss: 0.0019\n",
            "Epoch 28/50\n",
            "1778/1778 [==============================] - 15s 8ms/step - loss: 0.0022 - val_loss: 0.0019\n",
            "Epoch 29/50\n",
            "1778/1778 [==============================] - 15s 8ms/step - loss: 0.0022 - val_loss: 0.0019\n",
            "Epoch 30/50\n",
            "1778/1778 [==============================] - 15s 9ms/step - loss: 0.0022 - val_loss: 0.0019\n",
            "Epoch 31/50\n",
            "1778/1778 [==============================] - 15s 8ms/step - loss: 0.0022 - val_loss: 0.0019\n",
            "Epoch 32/50\n",
            "1778/1778 [==============================] - 15s 8ms/step - loss: 0.0022 - val_loss: 0.0019\n",
            "Epoch 33/50\n",
            "1778/1778 [==============================] - 15s 8ms/step - loss: 0.0022 - val_loss: 0.0019\n",
            "Epoch 34/50\n",
            "1778/1778 [==============================] - 15s 9ms/step - loss: 0.0022 - val_loss: 0.0019\n",
            "Epoch 35/50\n",
            "1778/1778 [==============================] - 15s 8ms/step - loss: 0.0022 - val_loss: 0.0019\n",
            "Epoch 36/50\n",
            "1778/1778 [==============================] - 15s 8ms/step - loss: 0.0022 - val_loss: 0.0019\n",
            "Epoch 37/50\n",
            "1778/1778 [==============================] - 15s 8ms/step - loss: 0.0022 - val_loss: 0.0019\n",
            "Epoch 38/50\n",
            "1778/1778 [==============================] - 16s 9ms/step - loss: 0.0022 - val_loss: 0.0019\n",
            "Epoch 39/50\n",
            "1778/1778 [==============================] - 15s 9ms/step - loss: 0.0022 - val_loss: 0.0019\n",
            "Epoch 40/50\n",
            "1778/1778 [==============================] - 15s 8ms/step - loss: 0.0022 - val_loss: 0.0019\n",
            "Epoch 41/50\n",
            "1778/1778 [==============================] - 15s 8ms/step - loss: 0.0022 - val_loss: 0.0019\n",
            "Epoch 42/50\n",
            "1778/1778 [==============================] - 15s 8ms/step - loss: 0.0022 - val_loss: 0.0019\n",
            "Epoch 43/50\n",
            "1778/1778 [==============================] - 15s 8ms/step - loss: 0.0022 - val_loss: 0.0019\n",
            "Epoch 44/50\n",
            "1778/1778 [==============================] - 15s 8ms/step - loss: 0.0022 - val_loss: 0.0019\n",
            "Epoch 45/50\n",
            "1778/1778 [==============================] - 15s 8ms/step - loss: 0.0022 - val_loss: 0.0019\n",
            "Epoch 46/50\n",
            "1778/1778 [==============================] - 15s 8ms/step - loss: 0.0022 - val_loss: 0.0019\n",
            "Epoch 47/50\n",
            "1778/1778 [==============================] - 15s 8ms/step - loss: 0.0022 - val_loss: 0.0019\n",
            "Epoch 48/50\n",
            "1778/1778 [==============================] - 16s 9ms/step - loss: 0.0022 - val_loss: 0.0019\n",
            "Epoch 49/50\n",
            "1778/1778 [==============================] - 15s 8ms/step - loss: 0.0022 - val_loss: 0.0019\n",
            "Epoch 50/50\n",
            "1778/1778 [==============================] - 15s 8ms/step - loss: 0.0022 - val_loss: 0.0019\n"
          ]
        },
        {
          "output_type": "execute_result",
          "data": {
            "text/plain": [
              "<keras.src.callbacks.History at 0x7b2268e91990>"
            ]
          },
          "metadata": {},
          "execution_count": 90
        }
      ]
    },
    {
      "cell_type": "code",
      "source": [
        "# Evaluación del modelo\n",
        "predictions = model.predict(test_x)\n",
        "predictions = scaler_y.inverse_transform(predictions)\n",
        "\n",
        "#Deshacer la transformacion para los datos reales\n",
        "y_true_inverse = scaler_y.inverse_transform(test_y.reshape(-1, 1))\n",
        "\n",
        "#Verificamos con el Root Mean Squared Error\n",
        "mse = mean_squared_error(y_true_inverse, predictions)\n",
        "rmse = np.sqrt(mse)\n",
        "print(\"Root Mean Squared Error\")\n",
        "print(rmse)"
      ],
      "metadata": {
        "colab": {
          "base_uri": "https://localhost:8080/"
        },
        "id": "0ie59l5ZWDCn",
        "outputId": "274bade1-8eb7-4c6e-f2d4-f0663461e348"
      },
      "execution_count": null,
      "outputs": [
        {
          "output_type": "stream",
          "name": "stdout",
          "text": [
            "494/494 [==============================] - 2s 4ms/step\n",
            "Root Mean Squared Error\n",
            "0.04060961292380861\n"
          ]
        }
      ]
    },
    {
      "cell_type": "code",
      "source": [
        "# Evaluación con datos reales\n",
        "evaluation_model = pd.DataFrame({'True Values': y_true_inverse.flatten(), 'Predictions': predictions.flatten()})\n",
        "print('Model - Evaluation with Real Data:')\n",
        "print(evaluation_model.head())\n",
        "\n",
        "# Visualización de diferencias\n",
        "plt.figure(figsize=(10, 6))\n",
        "plt.scatter(y_true_inverse, predictions - y_true_inverse)\n",
        "plt.xlabel('True Values')\n",
        "plt.ylabel('Residuals (Predictions - True Values)')\n",
        "plt.title('Model - Residuals Plot')\n",
        "plt.show()\n"
      ],
      "metadata": {
        "colab": {
          "base_uri": "https://localhost:8080/",
          "height": 685
        },
        "id": "c2N8m_8tKbW0",
        "outputId": "f91a8f02-d45d-4f35-d42f-d7ea8745670a"
      },
      "execution_count": null,
      "outputs": [
        {
          "output_type": "stream",
          "name": "stdout",
          "text": [
            "Model - Evaluation with Real Data:\n",
            "   True Values  Predictions\n",
            "0     0.006594     0.027624\n",
            "1     0.003628     0.027624\n",
            "2     0.111264     0.027624\n",
            "3     0.009666     0.027624\n",
            "4     0.012901     0.027624\n"
          ]
        },
        {
          "output_type": "display_data",
          "data": {
            "text/plain": [
              "<Figure size 1000x600 with 1 Axes>"
            ],
            "image/png": "[encoded data removed]"
          },
          "metadata": {}
        }
      ]
    }
  ],
  "metadata": {
    "colab": {
      "provenance": [],
      "gpuType": "T4",
      "include_colab_link": true
    },
    "kernelspec": {
      "display_name": "Python 3",
      "name": "python3"
    },
    "language_info": {
      "name": "python"
    },
    "accelerator": "GPU"
  },
  "nbformat": 4,
  "nbformat_minor": 0
}